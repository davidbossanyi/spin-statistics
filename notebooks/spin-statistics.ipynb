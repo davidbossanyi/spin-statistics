{
 "cells": [
  {
   "cell_type": "markdown",
   "id": "d0bdd5af",
   "metadata": {},
   "source": [
    "This notebook allows you to use and explore the spinstats package. If you use any of the code provided in the [spin-statistics repository](https://github.com/davidbossanyi/spin-statistics), please cite _insert link to published paper here_. Examples are provided [here](https://github.com/davidbossanyi/spin-statistics/tree/master/examples) and you can read the package documentation by opening `doc/build/html/index.html` in your browser. This notebook is intended to introduce typical usage by providing a calculation of the spin statistical factor given a set of imput parameters. We begin by importing the classes that we need:"
   ]
  },
  {
   "cell_type": "code",
   "execution_count": 13,
   "id": "e8930c34",
   "metadata": {},
   "outputs": [],
   "source": [
    "from spinstats import SpinHamiltonian\n",
    "from spinstats.models import Model2 as Model"
   ]
  },
  {
   "cell_type": "markdown",
   "id": "64a0bb23",
   "metadata": {},
   "source": [
    "Depending on where and how you are running this notebook, you may need to add the module directory to your path first. In this case, use something like:"
   ]
  },
  {
   "cell_type": "code",
   "execution_count": 12,
   "id": "8c056a15",
   "metadata": {},
   "outputs": [],
   "source": [
    "import sys\n",
    "import os\n",
    "sys.path.insert(0, os.path.abspath(os.path.join('..')))"
   ]
  },
  {
   "cell_type": "markdown",
   "id": "35d14393",
   "metadata": {},
   "source": [
    "Next, we create spin Hamiltonian and rate model instances:"
   ]
  },
  {
   "cell_type": "code",
   "execution_count": 14,
   "id": "c00bbef5",
   "metadata": {},
   "outputs": [],
   "source": [
    "sh = SpinHamiltonian()\n",
    "m = Model()"
   ]
  },
  {
   "cell_type": "markdown",
   "id": "78f000ea",
   "metadata": {},
   "source": [
    "The parameters of the spin Hamiltonian can be set as follows:"
   ]
  },
  {
   "cell_type": "code",
   "execution_count": 15,
   "id": "062f90fc",
   "metadata": {},
   "outputs": [],
   "source": [
    "sh.J = 0\n",
    "sh.D = 6.45e-6\n",
    "sh.E = -6.45e-7\n",
    "sh.X = 6.45e-9\n",
    "sh.rAB = (0, 0, 0)\n",
    "sh.alpha = 0\n",
    "sh.beta = 0\n",
    "sh.gamma = 0\n",
    "sh.theta = 0\n",
    "sh.phi = 0\n",
    "sh.B = 0"
   ]
  },
  {
   "cell_type": "markdown",
   "id": "f124bb7b",
   "metadata": {},
   "source": [
    "And similarly for the rate constants of the model:"
   ]
  },
  {
   "cell_type": "code",
   "execution_count": 16,
   "id": "9131970b",
   "metadata": {},
   "outputs": [],
   "source": [
    "m.kSF = 100\n",
    "m.k_SF = 100\n",
    "m.kTS = 10\n",
    "m.kTF = 5\n",
    "m.kD = 0.1\n",
    "m.kTTA = 1\n",
    "m.kS = 0.0625\n",
    "m.kT = 0\n",
    "m.kIC1 = 17\n",
    "m.kIC2 = 12\n",
    "m.kIC21 = 8\n",
    "m.kRISC = 0"
   ]
  },
  {
   "cell_type": "markdown",
   "id": "5a669c7d",
   "metadata": {},
   "source": [
    "You may also want to calculate the internal conversion rates from the energy gap law. In this case, we do the following:"
   ]
  },
  {
   "cell_type": "code",
   "execution_count": 18,
   "id": "56362cb6",
   "metadata": {},
   "outputs": [],
   "source": [
    "ET1 = 1.14  # energy level of the T1 state in eV\n",
    "ET2 = 2.43  # energy level of the T2 state in eV \n",
    "m.kIC1 = m.calculate_internal_conversion_rate(-ET1)\n",
    "m.kIC2 = m.calculate_internal_conversion_rate(ET2-2*ET1)\n",
    "m.kIC21 = m.calculate_internal_conversion_rate(ET2-ET1)"
   ]
  },
  {
   "cell_type": "markdown",
   "id": "e679f08d",
   "metadata": {},
   "source": [
    "The energy gap law parameters can be changed first if desired:"
   ]
  },
  {
   "cell_type": "code",
   "execution_count": 17,
   "id": "0b111a9a",
   "metadata": {},
   "outputs": [],
   "source": [
    "m.gaplaw_A = 4900  # prefactor giving barrierless rate of internal conversion in units of per ns\n",
    "m.gaplaw_gamma = 0.845  # material-dependent factor that multiplies the energy gap\n",
    "m.gaplaw_Evib = 0.17  # highest vibrational-energy that couples electronically in eV\n",
    "m.gaplaw_kT = 0.025  # Thermal energy in eV"
   ]
  },
  {
   "cell_type": "markdown",
   "id": "c19a97a0",
   "metadata": {},
   "source": [
    "Having set all the necessary parameters, we can now calculate the spin statistical factor by diagonalising the spin Hamiltonian, passing the overlap factors to the model and solving the coupled rate equations in the steady-state to obtain the spin statistical factor, written here as eta:"
   ]
  },
  {
   "cell_type": "code",
   "execution_count": 19,
   "id": "5d9aa2b0",
   "metadata": {},
   "outputs": [
    {
     "name": "stdout",
     "output_type": "stream",
     "text": [
      "eta = 65.83%\n"
     ]
    }
   ],
   "source": [
    "sh.calculate_everything()  # diagonalises the spin Hamiltonian\n",
    "m.set_spinhamiltonian_parameters(sh)  # passes the calculated overlap factors to the model\n",
    "m.calculate_eta()  # performs the calculation\n",
    "print('eta = {0:.2%}'.format(m.eta))"
   ]
  },
  {
   "cell_type": "code",
   "execution_count": null,
   "id": "4afef86c",
   "metadata": {},
   "outputs": [],
   "source": []
  }
 ],
 "metadata": {
  "kernelspec": {
   "display_name": "Python 3 (Spyder)",
   "language": "python3",
   "name": "python3"
  },
  "language_info": {
   "codemirror_mode": {
    "name": "ipython",
    "version": 3
   },
   "file_extension": ".py",
   "mimetype": "text/x-python",
   "name": "python",
   "nbconvert_exporter": "python",
   "pygments_lexer": "ipython3",
   "version": "3.8.10"
  }
 },
 "nbformat": 4,
 "nbformat_minor": 5
}
